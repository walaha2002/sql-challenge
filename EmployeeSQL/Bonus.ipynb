{
 "cells": [
  {
   "cell_type": "code",
   "execution_count": 1,
   "metadata": {},
   "outputs": [],
   "source": [
    "from sqlalchemy import create_engine\n",
    "from config import key\n",
    "import matplotlib.pyplot as plt\n",
    "import pandas as pd\n",
    "from sqlalchemy import Column, Integer, String, Float\n",
    "from sqlalchemy.ext.declarative import declarative_base\n",
    "Base = declarative_base()"
   ]
  },
  {
   "cell_type": "code",
   "execution_count": 4,
   "metadata": {},
   "outputs": [
    {
     "name": "stdout",
     "output_type": "stream",
     "text": [
      "(Decimal('48564.43'), 'Assistant Engineer')\n",
      "(Decimal('48535.34'), 'Engineer')\n",
      "(Decimal('51531.04'), 'Manager')\n",
      "(Decimal('48506.80'), 'Senior Engineer')\n",
      "(Decimal('58550.17'), 'Senior Staff')\n",
      "(Decimal('58465.38'), 'Staff')\n",
      "(Decimal('48582.90'), 'Technique Leader')\n"
     ]
    }
   ],
   "source": [
    "rds_connection_string = f\"postgres:{key}@10.0.0.6:5432/employee2\"\n",
    "engine = create_engine(f\"postgresql://{rds_connection_string}\")\n",
    "        # connection = engine.connect()\n",
    "        # Base.metadata.create_all(engine)\n",
    "        \n",
    "data=engine.execute(\"SELECT ROUND(AVG(S.SALARY),2), T.TITLE FROM EMPLOYEES AS E, SALARIES AS S, TITLES AS T WHERE E.EMP_NO=S.EMP_NO AND E.EMP_TITLE_ID=T.TITLE_ID GROUP BY T.TITLE\")\n",
    "\n",
    "\n",
    "for record in data:\n",
    "    print(record)"
   ]
  },
  {
   "cell_type": "code",
   "execution_count": null,
   "metadata": {},
   "outputs": [],
   "source": [
    "# from sqlalchemy.orm import Session\n",
    "# session = Session(bind=engine)"
   ]
  },
  {
   "cell_type": "code",
   "execution_count": null,
   "metadata": {},
   "outputs": [],
   "source": []
  }
 ],
 "metadata": {
  "kernelspec": {
   "display_name": "Python 3",
   "language": "python",
   "name": "python3"
  },
  "language_info": {
   "codemirror_mode": {
    "name": "ipython",
    "version": 3
   },
   "file_extension": ".py",
   "mimetype": "text/x-python",
   "name": "python",
   "nbconvert_exporter": "python",
   "pygments_lexer": "ipython3",
   "version": "3.7.6"
  }
 },
 "nbformat": 4,
 "nbformat_minor": 4
}
